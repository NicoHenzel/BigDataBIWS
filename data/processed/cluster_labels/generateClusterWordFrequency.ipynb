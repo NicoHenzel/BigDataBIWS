{
 "cells": [
  {
   "cell_type": "code",
   "execution_count": 4,
   "metadata": {},
   "outputs": [],
   "source": [
    "import pandas as pd\n",
    "from collections import Counter"
   ]
  },
  {
   "cell_type": "code",
   "execution_count": 5,
   "metadata": {},
   "outputs": [],
   "source": [
    "def cluster_word_frequency(models, column='text'):\n",
    "    \"\"\"\n",
    "    Generates a dataframe containing the word frequency for each cluster.\n",
    "\n",
    "    Parameters\n",
    "    ----------\n",
    "    models : list\n",
    "        The list of models used for clustering.\n",
    "    column : str\n",
    "        The column containing the text data.\n",
    "        Default: 'text'\n",
    "    \"\"\"\n",
    "    for model in models:\n",
    "        df = pd.read_pickle(f'{model}.pkl')\n",
    "        for n in df['cluster'].unique():\n",
    "            # count words in each cluster\n",
    "            df_filtered = df[df['cluster'] == n]\n",
    "            word_list = df_filtered[column].str.split().tolist()\n",
    "            flattened_list = [word for sublist in word_list for word in sublist]\n",
    "            word_counts = Counter(flattened_list)\n",
    "            word_counts_df = pd.DataFrame.from_dict(word_counts, orient='index', columns=['Count'])\n",
    "            word_counts_df = word_counts_df.sort_values(by='Count', ascending=False)\n",
    "            # change index to column \n",
    "            word_counts_df = word_counts_df.reset_index()\n",
    "            # rename column\n",
    "            word_counts_df = word_counts_df.rename(columns={'index':'Name'})\n",
    "            # add cluster column\n",
    "            word_counts_df['Cluster'] = n\n",
    "            # write to csv\n",
    "            pd.DataFrame(word_counts_df).to_csv(f'{model}_cluster{n}.csv')\n",
    "    return None"
   ]
  },
  {
   "cell_type": "code",
   "execution_count": 6,
   "metadata": {},
   "outputs": [],
   "source": [
    "models = ['KMeans', 'Agglomerative', 'DBSCAN']\n",
    "cluster_word_frequency(models, column='text')"
   ]
  }
 ],
 "metadata": {
  "kernelspec": {
   "display_name": "env",
   "language": "python",
   "name": "python3"
  },
  "language_info": {
   "codemirror_mode": {
    "name": "ipython",
    "version": 3
   },
   "file_extension": ".py",
   "mimetype": "text/x-python",
   "name": "python",
   "nbconvert_exporter": "python",
   "pygments_lexer": "ipython3",
   "version": "3.10.9"
  },
  "orig_nbformat": 4
 },
 "nbformat": 4,
 "nbformat_minor": 2
}
