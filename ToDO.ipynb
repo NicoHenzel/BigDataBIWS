{
 "cells": [
  {
   "attachments": {},
   "cell_type": "markdown",
   "metadata": {},
   "source": [
    "# Task 1: Exploration Python - Lukas und Alexandra"
   ]
  },
  {
   "attachments": {},
   "cell_type": "markdown",
   "metadata": {},
   "source": [
    "- Preprocess recipes, applying text preprocessing steps, (e.g. tokenization, stop word elimination, language filtering etc.)\n",
    "- Calculate the following key figures for all English recipes:\n",
    "    - a) Absolute number of ingredients within all recipes analyzed\n",
    "    - b) Relative number of different ingredients within all recipes analyzed = Absolute number of different ingredients / Absolute number of ingredients\n",
    "    - c) Top 10 most frequent food preparation steps (verbs, single tokens)\n",
    "    - d) Top 10 most frequent food preparation step combinations (verbs, single tokens)\n",
    "    - e) Top 10 most frequent ingredients (nouns, single tokens and 2-grams)\n",
    "    - f) Top 10 most frequent ingredient combinations (nouns, single tokens and 2-grams)\n",
    "\n",
    "**Fragen**:\n",
    "- Does it make sense to Lemmatize AND stem?\n",
    "- Use \"SET\" to filter duplicate 2-Grams? \n",
    "- Crawl von Seiten, die häufig das Wort enthalten\n",
    "- Mit Negativliste filtern\n",
    "- Liste sauber machen\n",
    "- Frage a+b nochmal anschauen (b sollte innerhalb von 0 und 1 sein)\n",
    "- Combinations nochmal anschauen (welche Kombinationen gibt es innerhalb von einem Rezept?)\n",
    "- Entweder lemmatize oder stemming, evtl. auch abhängig vom input (verben lemmatize, stemming nouns)"
   ]
  },
  {
   "attachments": {},
   "cell_type": "markdown",
   "metadata": {},
   "source": [
    "# Task 2: Exploration Tableau - Lukas und Alexandra"
   ]
  },
  {
   "attachments": {},
   "cell_type": "markdown",
   "metadata": {},
   "source": [
    "- Visualize calculated key figures in Tableau\n",
    "- Implement interactive filters and diagrams / tables of your choice\n",
    "- Show entire information in a single page dashboard"
   ]
  },
  {
   "attachments": {},
   "cell_type": "markdown",
   "metadata": {},
   "source": [
    "# Task 3: Clustering Python - Nico und Niels"
   ]
  },
  {
   "attachments": {},
   "cell_type": "markdown",
   "metadata": {},
   "source": [
    "- Goals: Build an optimal clustering model to group the provided recipes ✅\n",
    "- Experiment with ✅\n",
    "  - different feature sets:  ✅\n",
    "    - Only ingredients ✅\n",
    "    - Only steps ✅\n",
    "    - Only descriptions ✅\n",
    "    - Combinations of ingredients, steps and descriptions ✅\n",
    "  - different pre-processings ✅\n",
    "    Fuer die einzelnen Modell, die im ersten Teil am besten abschneiden ✅\n",
    "  \n",
    "  - different clustering algorithms and hyper-parameters ✅\n",
    "    - Prototype-based vs. density-based vs. hierarchical ✅\n",
    "\n",
    "- For each model version ✅\n",
    "  - evaluate with an appropriate key figure ✅\n",
    "    - Metrics ✅, Cluster visualization ✅\n",
    "\n",
    "- Update requirements.txt with new packages ✅\n",
    "- Add run through differently preprocessed datasets to modelling.py ✅\n",
    "- CSV Exportieren mit Metriken der Modellruns ✅\n",
    "- Word Cloud generieren ✅\n",
    "-  Modelle auf unterschiedlichen Preprocessing und Features laufen lassen ✅\n",
    "\n",
    "\n",
    "- Offen\n",
    "   - Tags in ML Flow hinzufügen: Features, Preprocessing\n",
    "  - run_modelling.py erfolgreich durchlaufen lassen\n",
    "\n"
   ]
  },
  {
   "attachments": {},
   "cell_type": "markdown",
   "metadata": {},
   "source": [
    "# Task 4: Clustering Tableau - Nico und Niels"
   ]
  },
  {
   "attachments": {},
   "cell_type": "markdown",
   "metadata": {},
   "source": [
    "- Visualize calculated key figures in Tableau fuer den ersten Teil ✅\n",
    "- PCA Analyse in 2 Dimensionen ueber die Daten bei preprocessing fuer einzelne Modelle, wenn die Feature individuell angepasst werden, um das Modell zu verbessern ✅\n",
    "- Implement interactive filters and diagrams / tables of your choice\n",
    "- Show entire information in a single page dashboard \n",
    "- Tableau Dashboard mit Graphik der Runs und Verlauf darstellen ✅\n",
    "    - store evaluation results and export them in a file for visualization in Tableau ✅\n",
    "\n",
    "- Offen:\n",
    "   - DBSCAN und Rest zusammen in einem Worksheet darstellen mit Filter Optionen\n",
    "   - Cluster Daten exportieren als CSV, um in Tableau einzubinden\n",
    "   - Word Clouds als Mouse Over Bild darstellen, wenn Cluster ausgewählt wird"
   ]
  },
  {
   "attachments": {},
   "cell_type": "markdown",
   "metadata": {},
   "source": [
    "# Allgemein"
   ]
  },
  {
   "attachments": {},
   "cell_type": "markdown",
   "metadata": {},
   "source": [
    "- Meth in Git einladen"
   ]
  },
  {
   "attachments": {},
   "cell_type": "markdown",
   "metadata": {},
   "source": []
  }
 ],
 "metadata": {
  "language_info": {
   "name": "python"
  },
  "orig_nbformat": 4
 },
 "nbformat": 4,
 "nbformat_minor": 2
}
